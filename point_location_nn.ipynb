{
  "nbformat": 4,
  "nbformat_minor": 0,
  "metadata": {
    "colab": {
      "name": "point-location-nn.ipynb",
      "provenance": [],
      "collapsed_sections": [],
      "include_colab_link": true
    },
    "kernelspec": {
      "name": "python3",
      "display_name": "Python 3"
    },
    "accelerator": "GPU"
  },
  "cells": [
    {
      "cell_type": "markdown",
      "metadata": {
        "id": "view-in-github",
        "colab_type": "text"
      },
      "source": [
        "<a href=\"https://colab.research.google.com/github/rpavlik/image-proc-nn-testing/blob/master/point_location_nn.ipynb\" target=\"_parent\"><img src=\"https://colab.research.google.com/assets/colab-badge.svg\" alt=\"Open In Colab\"/></a>"
      ]
    },
    {
      "cell_type": "code",
      "metadata": {
        "id": "FZ729nW_vqbu",
        "colab_type": "code",
        "outputId": "02d61696-59c8-4b6b-c42d-e4456f113d38",
        "colab": {
          "base_uri": "https://localhost:8080/",
          "height": 34
        }
      },
      "source": [
        "from __future__ import absolute_import, division, print_function, unicode_literals\n",
        "\n",
        "try:\n",
        "  # %tensorflow_version only exists in Colab.\n",
        "  %tensorflow_version 2.x\n",
        "except Exception:\n",
        "  pass\n",
        "import tensorflow as tf\n",
        "import os\n",
        "import time\n",
        "import matplotlib.pyplot as plt\n",
        "from IPython.display import clear_output\n",
        "import IPython.display as display\n",
        "import numpy as np\n",
        "\n",
        "from tensorflow.keras import datasets, layers, models\n"
      ],
      "execution_count": 1,
      "outputs": [
        {
          "output_type": "stream",
          "text": [
            "TensorFlow 2.x selected.\n"
          ],
          "name": "stdout"
        }
      ]
    },
    {
      "cell_type": "code",
      "metadata": {
        "id": "77Uq0xMBwNld",
        "colab_type": "code",
        "colab": {}
      },
      "source": [
        "BUFFER_SIZE = 50\n",
        "BATCH_SIZE = 20\n",
        "IMG_WIDTH = 512\n",
        "IMG_HEIGHT = 256\n",
        "AUTOTUNE = tf.data.experimental.AUTOTUNE"
      ],
      "execution_count": 0,
      "outputs": []
    },
    {
      "cell_type": "markdown",
      "metadata": {
        "id": "PcoxDjZsXAal",
        "colab_type": "text"
      },
      "source": [
        "Clone repo with data in it"
      ]
    },
    {
      "cell_type": "code",
      "metadata": {
        "id": "U8Gs3ui_WC39",
        "colab_type": "code",
        "outputId": "9a91e39e-15d3-480d-a39b-632099782bd5",
        "colab": {
          "base_uri": "https://localhost:8080/",
          "height": 139
        }
      },
      "source": [
        "!git clone https://github.com/rpavlik/image-proc-nn-testing.git"
      ],
      "execution_count": 3,
      "outputs": [
        {
          "output_type": "stream",
          "text": [
            "Cloning into 'image-proc-nn-testing'...\n",
            "remote: Enumerating objects: 518, done.\u001b[K\n",
            "remote: Counting objects: 100% (518/518), done.\u001b[K\n",
            "remote: Compressing objects: 100% (514/514), done.\u001b[K\n",
            "remote: Total 518 (delta 9), reused 509 (delta 3), pack-reused 0\u001b[K\n",
            "Receiving objects: 100% (518/518), 66.20 KiB | 2.65 MiB/s, done.\n",
            "Resolving deltas: 100% (9/9), done.\n"
          ],
          "name": "stdout"
        }
      ]
    },
    {
      "cell_type": "code",
      "metadata": {
        "id": "bBlXObp2bBiD",
        "colab_type": "code",
        "outputId": "c15e33eb-3ed4-4338-971a-69c14a1922e0",
        "colab": {
          "base_uri": "https://localhost:8080/",
          "height": 34
        }
      },
      "source": [
        "!(cd image-proc-nn-testing && git pull)"
      ],
      "execution_count": 4,
      "outputs": [
        {
          "output_type": "stream",
          "text": [
            "Already up to date.\n"
          ],
          "name": "stdout"
        }
      ]
    },
    {
      "cell_type": "markdown",
      "metadata": {
        "id": "Bfa2UulVXEVI",
        "colab_type": "text"
      },
      "source": [
        "Make a dataset with all the filenames in it, showing a few of them as a sample."
      ]
    },
    {
      "cell_type": "code",
      "metadata": {
        "id": "ADj1lvwPWeXO",
        "colab_type": "code",
        "outputId": "0e3e620c-392b-45f5-fb7d-4f05c3782803",
        "colab": {
          "base_uri": "https://localhost:8080/",
          "height": 104
        }
      },
      "source": [
        "list_ds = tf.data.Dataset.list_files('image-proc-nn-testing/set1/*.png')\n",
        "for f in list_ds.take(5):\n",
        "  print(f.numpy())\n"
      ],
      "execution_count": 5,
      "outputs": [
        {
          "output_type": "stream",
          "text": [
            "b'image-proc-nn-testing/set1/img_172_116.png'\n",
            "b'image-proc-nn-testing/set1/img_333_254.png'\n",
            "b'image-proc-nn-testing/set1/img_7_173.png'\n",
            "b'image-proc-nn-testing/set1/img_75_86.png'\n",
            "b'image-proc-nn-testing/set1/img_212_169.png'\n"
          ],
          "name": "stdout"
        }
      ]
    },
    {
      "cell_type": "code",
      "metadata": {
        "id": "Tz8wqjSUW7lz",
        "colab_type": "code",
        "colab": {}
      },
      "source": [
        "def decode_img(img):\n",
        "  img = tf.image.decode_png(img, channels=1)\n",
        "  img = tf.image.convert_image_dtype(img, dtype=tf.float32)\n",
        "  return img\n",
        "\n",
        "def process_path(file_path):\n",
        "\n",
        "  parts = tf.strings.split(file_path, '/')\n",
        "  fn_parts = tf.strings.split(tf.strings.split(parts[-1], '.')[0], '_')\n",
        "  \n",
        "  return tf.io.read_file(file_path), tf.strings.to_number(fn_parts[1:])\n",
        "\n"
      ],
      "execution_count": 0,
      "outputs": []
    },
    {
      "cell_type": "code",
      "metadata": {
        "id": "Xjq_MUaSXu8e",
        "colab_type": "code",
        "outputId": "a8b457fd-5915-4ff7-dd53-7a9a04435fa1",
        "colab": {
          "base_uri": "https://localhost:8080/",
          "height": 89
        }
      },
      "source": [
        "labeled_ds = list_ds.map(process_path)\n",
        "\n",
        "for image_raw, label_text in labeled_ds.take(1):\n",
        "  print(repr(image_raw.numpy()[:100]))\n",
        "  print()\n",
        "  print(label_text)\n"
      ],
      "execution_count": 7,
      "outputs": [
        {
          "output_type": "stream",
          "text": [
            "b\"\\x89PNG\\r\\n\\x1a\\n\\x00\\x00\\x00\\rIHDR\\x00\\x00\\x02\\x00\\x00\\x00\\x01\\x00\\x01\\x00\\x00\\x00\\x00\\xed\\xeb\\xf3\\xca\\x00\\x00\\x004IDATx\\x9c\\xed\\xcc\\xa1\\r\\x00\\x00\\x08\\xc00\\xc2\\x1d\\xfc\\x7f'\\x16\\x0f\\x86\\xa4US\\x8b\\x00\\x008P\\xa3s;[\\x0f\\x00\\x00\\x00\\x00\\x00\\x00\\x00\\x00\\x00\\x00\\x00\\x00\\x00\\x80g\\x1aV\\x17\\x00!qx0\\xd8\\x00\\x00\\x00\"\n",
            "\n",
            "tf.Tensor([420.  33.], shape=(2,), dtype=float32)\n"
          ],
          "name": "stdout"
        }
      ]
    },
    {
      "cell_type": "code",
      "metadata": {
        "id": "3SNwFChKY71V",
        "colab_type": "code",
        "colab": {}
      },
      "source": [
        "def handle_image(img, label):\n",
        "  return decode_img(img), label\n"
      ],
      "execution_count": 0,
      "outputs": []
    },
    {
      "cell_type": "code",
      "metadata": {
        "colab_type": "code",
        "outputId": "634fcd7e-0fd2-4ba0-ad70-dde6022a8992",
        "id": "zXocFw_iZm7q",
        "colab": {
          "base_uri": "https://localhost:8080/",
          "height": 52
        }
      },
      "source": [
        "\n",
        "decoded_labeled_ds = labeled_ds.map(handle_image)\n",
        "\n",
        "for image, label in decoded_labeled_ds.take(1):\n",
        "  print(\"Image shape: \", image.numpy().shape)\n",
        "  print(\"Label: \", label.numpy())"
      ],
      "execution_count": 9,
      "outputs": [
        {
          "output_type": "stream",
          "text": [
            "Image shape:  (256, 512, 1)\n",
            "Label:  [22.  7.]\n"
          ],
          "name": "stdout"
        }
      ]
    },
    {
      "cell_type": "markdown",
      "metadata": {
        "id": "VVDtcJPSarn_",
        "colab_type": "text"
      },
      "source": [
        "the following is from https://www.tensorflow.org/tutorials/load_data/images#basic_methods_for_training"
      ]
    },
    {
      "cell_type": "code",
      "metadata": {
        "id": "qW1AkgyKx9nV",
        "colab_type": "code",
        "colab": {}
      },
      "source": [
        "def prepare_for_training(ds, cache=True, shuffle_buffer_size=1000):\n",
        "  # This is a small dataset, only load it once, and keep it in memory.\n",
        "  # use `.cache(filename)` to cache preprocessing work for datasets that don't\n",
        "  # fit in memory.\n",
        "  if cache:\n",
        "    if isinstance(cache, str):\n",
        "      ds = ds.cache(cache)\n",
        "    else:\n",
        "      ds = ds.cache()\n",
        "\n",
        "  ds = ds.shuffle(buffer_size=shuffle_buffer_size)\n",
        "\n",
        "  # Repeat forever\n",
        "  ds = ds.repeat()\n",
        "\n",
        "  ds = ds.batch(BATCH_SIZE)\n",
        "\n",
        "  # `prefetch` lets the dataset fetch batches in the background while the model\n",
        "  # is training.\n",
        "  ds = ds.prefetch(buffer_size=AUTOTUNE)\n",
        "\n",
        "  return ds\n",
        "\n",
        "def show_batch(image_batch, label_batch):\n",
        "  plt.figure(figsize=(20,20))\n",
        "  for n in range(BATCH_SIZE):\n",
        "      ax = plt.subplot(5,5,n+1)\n",
        "      plt.imshow(tf.image.grayscale_to_rgb(tf.convert_to_tensor(image_batch[n])))\n",
        "      plt.title(str(label_batch[n]))\n",
        "      plt.axis('off')\n"
      ],
      "execution_count": 0,
      "outputs": []
    },
    {
      "cell_type": "code",
      "metadata": {
        "id": "Gzmo7ggPyJsp",
        "colab_type": "code",
        "colab": {}
      },
      "source": [
        "train_ds = prepare_for_training(decoded_labeled_ds)\n",
        "\n",
        "it = iter(train_ds)\n",
        "image_batch, label_batch = next(it)\n",
        "test_image_batch, test_label_batch = next(it)\n"
      ],
      "execution_count": 0,
      "outputs": []
    },
    {
      "cell_type": "code",
      "metadata": {
        "id": "tSh0rI-McBI6",
        "colab_type": "code",
        "outputId": "590d566e-d25a-4d47-fefe-a8f7a4ef5521",
        "colab": {
          "base_uri": "https://localhost:8080/",
          "height": 818
        }
      },
      "source": [
        "show_batch(image_batch.numpy(), label_batch.numpy())\n"
      ],
      "execution_count": 12,
      "outputs": [
        {
          "output_type": "display_data",
          "data": {
            "image/png": "[encoded data removed]",
            "text/plain": [
              "<Figure size 1440x1440 with 20 Axes>"
            ]
          },
          "metadata": {
            "tags": []
          }
        }
      ]
    },
    {
      "cell_type": "markdown",
      "metadata": {
        "id": "HPJn3YvAieOJ",
        "colab_type": "text"
      },
      "source": [
        "make sure we have our dims right"
      ]
    },
    {
      "cell_type": "code",
      "metadata": {
        "id": "7k9SgnVQiPiU",
        "colab_type": "code",
        "colab": {}
      },
      "source": [
        "for image in image_batch:\n",
        "  assert(image.get_shape() == (IMG_HEIGHT, IMG_WIDTH, 1))"
      ],
      "execution_count": 0,
      "outputs": []
    },
    {
      "cell_type": "markdown",
      "metadata": {
        "id": "gBeZ6Sjxiggv",
        "colab_type": "text"
      },
      "source": [
        "start creating our model - turns out a conv layer was not only not needed, it made it slower and less accurate.\n",
        "\n"
      ]
    },
    {
      "cell_type": "code",
      "metadata": {
        "id": "Y9SDVAb20rpk",
        "colab_type": "code",
        "outputId": "f56ae659-d349-43c9-b0b1-1c6728264ec2",
        "colab": {
          "base_uri": "https://localhost:8080/",
          "height": 260
        }
      },
      "source": [
        "model = models.Sequential()\n",
        "#model.add(layers.Conv2D(2, 33, activation='relu', ))\n",
        "#model.add(layers.Conv2D(10, 65, activation='relu'))\n",
        "model.add(layers.Flatten(input_shape=(IMG_HEIGHT, IMG_WIDTH, 1)))\n",
        "model.add(layers.Dense(10, activation='relu'))\n",
        "\n",
        "# Last layer has 2 nodes for output: one for x, one for y\n",
        "model.add(layers.Dense(2))\n",
        "\n",
        "optimizer = tf.keras.optimizers.RMSprop(0.001)\n",
        "\n",
        "model.compile(loss='mse',\n",
        "              optimizer=optimizer,\n",
        "              #optimizer='adam',\n",
        "              metrics=['mae', 'mse'])\n",
        "\n",
        "model.summary()"
      ],
      "execution_count": 0,
      "outputs": [
        {
          "output_type": "stream",
          "text": [
            "Model: \"sequential_6\"\n",
            "_________________________________________________________________\n",
            "Layer (type)                 Output Shape              Param #   \n",
            "=================================================================\n",
            "flatten_6 (Flatten)          (None, 131072)            0         \n",
            "_________________________________________________________________\n",
            "dense_8 (Dense)              (None, 10)                1310730   \n",
            "_________________________________________________________________\n",
            "dense_9 (Dense)              (None, 2)                 22        \n",
            "=================================================================\n",
            "Total params: 1,310,752\n",
            "Trainable params: 1,310,752\n",
            "Non-trainable params: 0\n",
            "_________________________________________________________________\n"
          ],
          "name": "stdout"
        }
      ]
    },
    {
      "cell_type": "markdown",
      "metadata": {
        "id": "CCWOZ2K_h18E",
        "colab_type": "text"
      },
      "source": [
        "Now, before we train, let's look at the model and try using it to predict, with just whatever init data is in there."
      ]
    },
    {
      "cell_type": "markdown",
      "metadata": {
        "id": "sn6NSnALh9S6",
        "colab_type": "text"
      },
      "source": [
        "The fact this shows two floats for each image means the data types are at least right."
      ]
    },
    {
      "cell_type": "code",
      "metadata": {
        "id": "60bvefJj5wH4",
        "colab_type": "code",
        "outputId": "208c209c-3fc7-40b1-e65a-abe097d024ba",
        "colab": {
          "base_uri": "https://localhost:8080/",
          "height": 364
        }
      },
      "source": [
        "model.predict(image_batch)"
      ],
      "execution_count": 0,
      "outputs": [
        {
          "output_type": "execute_result",
          "data": {
            "text/plain": [
              "array([[-0.00929022,  0.01601044],\n",
              "       [ 0.0080074 , -0.01431593],\n",
              "       [ 0.00180589, -0.00317474],\n",
              "       [ 0.01195329, -0.00012057],\n",
              "       [ 0.01639706, -0.00076416],\n",
              "       [ 0.0030568 ,  0.00185436],\n",
              "       [ 0.01336938, -0.00176203],\n",
              "       [ 0.00641984, -0.00673306],\n",
              "       [ 0.00326903, -0.00091997],\n",
              "       [ 0.00385871, -0.0006345 ],\n",
              "       [ 0.00126437, -0.00595214],\n",
              "       [-0.00630476, -0.00273106],\n",
              "       [ 0.00301865,  0.00394113],\n",
              "       [-0.00152681,  0.00071691],\n",
              "       [ 0.01639829, -0.01194369],\n",
              "       [ 0.01758792, -0.00880824],\n",
              "       [ 0.00522034,  0.00175111],\n",
              "       [ 0.00120066,  0.00478298],\n",
              "       [ 0.00999195, -0.01397665],\n",
              "       [ 0.02172948, -0.00333879]], dtype=float32)"
            ]
          },
          "metadata": {
            "tags": []
          },
          "execution_count": 26
        }
      ]
    },
    {
      "cell_type": "code",
      "metadata": {
        "id": "qltF87YO55Ly",
        "colab_type": "code",
        "outputId": "75eb98f5-c091-42b4-cd0a-170a7b53ae4d",
        "colab": {
          "base_uri": "https://localhost:8080/",
          "height": 729
        }
      },
      "source": [
        "#history = model.fit(image_batch, label_batch, epochs=20, validation_data=(test_image_batch, test_label_batch))\n",
        "history = model.fit(train_ds, steps_per_epoch=400, validation_data=prepare_for_training(decoded_labeled_ds), validation_steps=10, epochs=20)"
      ],
      "execution_count": 0,
      "outputs": [
        {
          "output_type": "stream",
          "text": [
            "Train for 400 steps, validate for 10 steps\n",
            "Epoch 1/20\n",
            "400/400 [==============================] - 5s 12ms/step - loss: 16419.5407 - mae: 93.9252 - mse: 16419.5391 - val_loss: 13935.5762 - val_mae: 88.0870 - val_mse: 13935.5771\n",
            "Epoch 2/20\n",
            "400/400 [==============================] - 5s 11ms/step - loss: 12225.3401 - mae: 83.4781 - mse: 12225.3408 - val_loss: 9369.8122 - val_mae: 73.9525 - val_mse: 9369.8135\n",
            "Epoch 3/20\n",
            "400/400 [==============================] - 5s 11ms/step - loss: 9026.1458 - mae: 74.5824 - mse: 9026.1465 - val_loss: 7117.4795 - val_mae: 67.1592 - val_mse: 7117.4795\n",
            "Epoch 4/20\n",
            "400/400 [==============================] - 5s 11ms/step - loss: 6921.7351 - mae: 67.3083 - mse: 6921.7363 - val_loss: 6172.5313 - val_mae: 63.8273 - val_mse: 6172.5312\n",
            "Epoch 5/20\n",
            "400/400 [==============================] - 4s 11ms/step - loss: 5659.2277 - mae: 61.0597 - mse: 5659.2266 - val_loss: 4914.3205 - val_mae: 56.4867 - val_mse: 4914.3203\n",
            "Epoch 6/20\n",
            "400/400 [==============================] - 5s 12ms/step - loss: 4812.5263 - mae: 55.4922 - mse: 4812.5273 - val_loss: 4074.9366 - val_mae: 50.3889 - val_mse: 4074.9365\n",
            "Epoch 7/20\n",
            "400/400 [==============================] - 4s 11ms/step - loss: 4174.6259 - mae: 50.3973 - mse: 4174.6230 - val_loss: 3426.1909 - val_mae: 44.4006 - val_mse: 3426.1909\n",
            "Epoch 8/20\n",
            "400/400 [==============================] - 5s 11ms/step - loss: 3597.2949 - mae: 45.1665 - mse: 3597.2959 - val_loss: 3206.5824 - val_mae: 41.5882 - val_mse: 3206.5825\n",
            "Epoch 9/20\n",
            "400/400 [==============================] - 4s 11ms/step - loss: 3004.1020 - mae: 39.3631 - mse: 3004.1023 - val_loss: 2766.0169 - val_mae: 36.1542 - val_mse: 2766.0168\n",
            "Epoch 10/20\n",
            "400/400 [==============================] - 5s 11ms/step - loss: 2388.8187 - mae: 32.9570 - mse: 2388.8188 - val_loss: 2135.7342 - val_mae: 29.9700 - val_mse: 2135.7341\n",
            "Epoch 11/20\n",
            "400/400 [==============================] - 5s 11ms/step - loss: 1791.4504 - mae: 26.2485 - mse: 1791.4508 - val_loss: 1431.2746 - val_mae: 21.9767 - val_mse: 1431.2747\n",
            "Epoch 12/20\n",
            "400/400 [==============================] - 5s 11ms/step - loss: 1271.4990 - mae: 19.9086 - mse: 1271.4989 - val_loss: 962.7673 - val_mae: 15.7546 - val_mse: 962.7673\n",
            "Epoch 13/20\n",
            "400/400 [==============================] - 4s 11ms/step - loss: 856.5382 - mae: 14.5561 - mse: 856.5383 - val_loss: 672.1443 - val_mae: 12.0967 - val_mse: 672.1443\n",
            "Epoch 14/20\n",
            "400/400 [==============================] - 4s 11ms/step - loss: 555.5827 - mae: 10.5199 - mse: 555.5829 - val_loss: 472.2624 - val_mae: 9.3655 - val_mse: 472.2624\n",
            "Epoch 15/20\n",
            "400/400 [==============================] - 5s 11ms/step - loss: 349.4279 - mae: 7.6250 - mse: 349.4279 - val_loss: 255.2391 - val_mae: 5.3990 - val_mse: 255.2391\n",
            "Epoch 16/20\n",
            "400/400 [==============================] - 4s 11ms/step - loss: 215.3536 - mae: 5.4531 - mse: 215.3536 - val_loss: 216.6428 - val_mae: 5.2058 - val_mse: 216.6428\n",
            "Epoch 17/20\n",
            "400/400 [==============================] - 5s 11ms/step - loss: 132.9696 - mae: 3.9407 - mse: 132.9695 - val_loss: 134.8115 - val_mae: 3.7342 - val_mse: 134.8115\n",
            "Epoch 18/20\n",
            "400/400 [==============================] - 4s 11ms/step - loss: 82.7260 - mae: 2.8438 - mse: 82.7260 - val_loss: 77.5499 - val_mae: 2.3546 - val_mse: 77.5499\n",
            "Epoch 19/20\n",
            "400/400 [==============================] - 5s 11ms/step - loss: 52.6087 - mae: 2.0729 - mse: 52.6087 - val_loss: 27.2111 - val_mae: 1.6575 - val_mse: 27.2111\n",
            "Epoch 20/20\n",
            "400/400 [==============================] - 5s 11ms/step - loss: 34.5822 - mae: 1.5878 - mse: 34.5822 - val_loss: 26.0913 - val_mae: 1.2766 - val_mse: 26.0913\n"
          ],
          "name": "stdout"
        }
      ]
    },
    {
      "cell_type": "markdown",
      "metadata": {
        "id": "tVf8x4uRjUhy",
        "colab_type": "text"
      },
      "source": [
        "based on https://www.tensorflow.org/tutorials/images/cnn#evaluate_the_model\n",
        "\n",
        "Hey, it appears to be working!"
      ]
    },
    {
      "cell_type": "code",
      "metadata": {
        "id": "J3zxXo6GWHEb",
        "colab_type": "code",
        "outputId": "2c7766c1-a800-4e73-9f7b-8bdf6fd6e8da",
        "colab": {
          "base_uri": "https://localhost:8080/",
          "height": 296
        }
      },
      "source": [
        "plt.plot(history.history['loss'], label='loss')\n",
        "plt.plot(history.history['val_loss'], label = 'val_loss')\n",
        "plt.xlabel('Epoch')\n",
        "plt.ylabel('loss')\n",
        "#plt.ylim([0.5, 1])\n",
        "plt.legend(loc='upper right')\n",
        "\n",
        "#test_loss, test_acc = model.evaluate(test_image_batch, test_label_batch, verbose=2)\n"
      ],
      "execution_count": 0,
      "outputs": [
        {
          "output_type": "execute_result",
          "data": {
            "text/plain": [
              "<matplotlib.legend.Legend at 0x7fef79e32a20>"
            ]
          },
          "metadata": {
            "tags": []
          },
          "execution_count": 32
        },
        {
          "output_type": "display_data",
          "data": {
            "image/png": "[encoded data removed]",
            "text/plain": [
              "<Figure size 432x288 with 1 Axes>"
            ]
          },
          "metadata": {
            "tags": []
          }
        }
      ]
    },
    {
      "cell_type": "code",
      "metadata": {
        "id": "55azsW6ci76n",
        "colab_type": "code",
        "outputId": "e4279492-7978-414e-a549-e72f327bd065",
        "colab": {
          "base_uri": "https://localhost:8080/",
          "height": 364
        }
      },
      "source": [
        "model.predict(image_batch)"
      ],
      "execution_count": 0,
      "outputs": [
        {
          "output_type": "execute_result",
          "data": {
            "text/plain": [
              "array([[218.24423 , 235.853   ],\n",
              "       [443.6995  ,  61.76374 ],\n",
              "       [460.7654  , 120.54729 ],\n",
              "       [446.672   , 123.72502 ],\n",
              "       [151.53331 ,  71.91726 ],\n",
              "       [395.9789  , 203.29413 ],\n",
              "       [321.29593 , 115.77761 ],\n",
              "       [ 60.306503, 101.30931 ],\n",
              "       [195.61497 , 206.68724 ],\n",
              "       [330.444   , 149.94925 ],\n",
              "       [382.41995 , 161.34511 ],\n",
              "       [373.59863 ,  80.89171 ],\n",
              "       [138.43472 , 119.837395],\n",
              "       [505.71356 ,  76.571144],\n",
              "       [482.57385 ,  96.022   ],\n",
              "       [259.0262  , 246.81448 ],\n",
              "       [157.37274 ,  10.770681],\n",
              "       [161.49106 ,  80.86551 ],\n",
              "       [  9.272263, 109.40018 ],\n",
              "       [134.34587 , 168.00577 ]], dtype=float32)"
            ]
          },
          "metadata": {
            "tags": []
          },
          "execution_count": 33
        }
      ]
    },
    {
      "cell_type": "code",
      "metadata": {
        "id": "hgsL42LtkOV9",
        "colab_type": "code",
        "outputId": "285eca4e-c531-42bf-c4e8-f5fedd2d5481",
        "colab": {
          "base_uri": "https://localhost:8080/",
          "height": 382
        }
      },
      "source": [
        "label_batch"
      ],
      "execution_count": 0,
      "outputs": [
        {
          "output_type": "execute_result",
          "data": {
            "text/plain": [
              "<tf.Tensor: id=285, shape=(20, 2), dtype=float32, numpy=\n",
              "array([[219., 236.],\n",
              "       [444.,  62.],\n",
              "       [460., 121.],\n",
              "       [446., 124.],\n",
              "       [152.,  72.],\n",
              "       [396., 203.],\n",
              "       [322., 116.],\n",
              "       [ 60., 101.],\n",
              "       [196., 207.],\n",
              "       [331., 150.],\n",
              "       [382., 161.],\n",
              "       [374.,  81.],\n",
              "       [139., 120.],\n",
              "       [506.,  77.],\n",
              "       [482.,  96.],\n",
              "       [260., 247.],\n",
              "       [158.,  11.],\n",
              "       [162.,  81.],\n",
              "       [ 16., 109.],\n",
              "       [134., 168.]], dtype=float32)>"
            ]
          },
          "metadata": {
            "tags": []
          },
          "execution_count": 34
        }
      ]
    },
    {
      "cell_type": "code",
      "metadata": {
        "id": "R4Bd6XJikPmO",
        "colab_type": "code",
        "colab": {}
      },
      "source": [
        ""
      ],
      "execution_count": 0,
      "outputs": []
    }
  ]
}